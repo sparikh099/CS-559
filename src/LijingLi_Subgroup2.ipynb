{
 "cells": [
  {
   "cell_type": "markdown",
   "id": "d784dffe",
   "metadata": {},
   "source": [
    "3.3 Cluster2 Analysis"
   ]
  },
  {
   "cell_type": "markdown",
   "id": "19897dde",
   "metadata": {},
   "source": [
    "3.3.0 Logistic Regression"
   ]
  },
  {
   "cell_type": "code",
   "execution_count": 133,
   "id": "0b229ad1",
   "metadata": {},
   "outputs": [
    {
     "name": "stdout",
     "output_type": "stream",
     "text": [
      "Train Accuracy: 0.9995694294940797\n",
      "Test Accuracy: 0.9982788296041308\n"
     ]
    }
   ],
   "source": [
    "import numpy as np\n",
    "np.random.seed(1)\n",
    "import pandas as pd\n",
    "from sklearn.model_selection import train_test_split\n",
    "from sklearn.metrics import accuracy_score, confusion_matrix\n",
    "from sklearn.naive_bayes import GaussianNB\n",
    "\n",
    "train_data = pd.read_csv('../data/train_data_transformed.csv')\n",
    "target_clusters = train_data['Cluster']\n",
    "target_bankruptcy = train_data['Bankrupt?']\n",
    "train_data.drop(columns=['Cluster'], inplace=True)\n",
    "train_data_scaled = (train_data[train_data.columns[:-2]] - train_data[train_data.columns[:-2]] .mean()) / train_data[train_data.columns[:-2]] .std()\n",
    "train_data = pd.concat([train_data_scaled, target_clusters,target_bankruptcy], axis=1)\n",
    "X_train, X_test, y_train, y_test = train_test_split(train_data[train_data.columns[:-2]], target_clusters, test_size=0.2, random_state=42)\n",
    "nb_model = GaussianNB()\n",
    "nb_model.fit(X_train, y_train)\n",
    "y_train_pred = nb_model.predict(X_train)\n",
    "y_test_pred = nb_model.predict(X_test)\n",
    "train_accuracy = accuracy_score(y_train, y_train_pred)\n",
    "test_accuracy = accuracy_score(y_test, y_test_pred)\n",
    "\n",
    "print(f\"Train Accuracy: {train_accuracy}\")\n",
    "print(f\"Test Accuracy: {test_accuracy}\")"
   ]
  },
  {
   "cell_type": "code",
   "execution_count": 134,
   "id": "ec007049",
   "metadata": {},
   "outputs": [
    {
     "name": "stderr",
     "output_type": "stream",
     "text": [
      "c:\\Users\\shyam\\AppData\\Local\\Programs\\Python\\Python311\\Lib\\site-packages\\sklearn\\cluster\\_kmeans.py:1416: FutureWarning: The default value of `n_init` will change from 10 to 'auto' in 1.4. Set the value of `n_init` explicitly to suppress the warning\n",
      "  super()._check_params_vs_input(X, default_n_init=10)\n"
     ]
    }
   ],
   "source": [
    "# Perform clustering analysis\n",
    "from sklearn.cluster import KMeans\n",
    "kmeans = KMeans(n_clusters=4, random_state=42)\n",
    "train_data['Cluster'] = kmeans.fit_predict(train_data.select_dtypes(include='number'))\n",
    "\n",
    "# Extract Cluster 2\n",
    "cluster2 = train_data[train_data['Cluster'] == 2]\n",
    "\n",
    "features = [\n",
    "    ' Current Liability to Current Assets',\n",
    "    ' Fixed Assets Turnover Frequency',\n",
    "    ' Total debt/Total net worth',\n",
    "    ' Total expense/Assets',\n",
    "    ' Fixed Assets to Assets'\n",
    "]\n",
    "\n",
    "train_data['Cluster'] = target_clusters\n",
    "train_data['Bankrupt?'] = target_bankruptcy"
   ]
  },
  {
   "cell_type": "code",
   "execution_count": 135,
   "id": "ac8c4408",
   "metadata": {},
   "outputs": [],
   "source": [
    "X = train_data[train_data['Cluster'] == 2][train_data.columns[:-2]]\n",
    "y = train_data[train_data['Cluster'] == 2]['Bankrupt?']"
   ]
  },
  {
   "cell_type": "markdown",
   "id": "a30f5fe5",
   "metadata": {},
   "source": [
    "3.3.1 Define Base Models"
   ]
  },
  {
   "cell_type": "code",
   "execution_count": 136,
   "id": "930200f4",
   "metadata": {},
   "outputs": [],
   "source": [
    "from sklearn.ensemble import (\n",
    "    RandomForestClassifier,\n",
    "    GradientBoostingClassifier,\n",
    "    StackingClassifier\n",
    ")\n",
    "from sklearn.svm import SVC\n",
    "from sklearn.linear_model import LogisticRegression\n",
    "\n",
    "base_models = [\n",
    "    ('rf', RandomForestClassifier(\n",
    "        n_estimators=200,\n",
    "        max_depth=7,\n",
    "        class_weight={0:1, 1:15},\n",
    "        random_state=42)),\n",
    "    ('gb', GradientBoostingClassifier(\n",
    "        n_estimators=150,\n",
    "        max_depth=5,\n",
    "        random_state=42)),\n",
    "    ('svc', SVC(\n",
    "        kernel='rbf',\n",
    "        C=1.0,\n",
    "        probability=True,\n",
    "        class_weight='balanced',\n",
    "        random_state=42))\n",
    "]"
   ]
  },
  {
   "cell_type": "markdown",
   "id": "ab616d42",
   "metadata": {},
   "source": [
    "3.3.2 Define Base ModelsDefine Stacking model"
   ]
  },
  {
   "cell_type": "code",
   "execution_count": 137,
   "id": "48797b3c",
   "metadata": {},
   "outputs": [],
   "source": [
    "stacking_model = StackingClassifier(\n",
    "    estimators=base_models,\n",
    "    final_estimator=LogisticRegression(class_weight='balanced', max_iter=1000),\n",
    "    cv=5,\n",
    "    stack_method='predict_proba'\n",
    ")"
   ]
  },
  {
   "cell_type": "markdown",
   "id": "467069ea",
   "metadata": {},
   "source": [
    "4 Generalization"
   ]
  },
  {
   "cell_type": "markdown",
   "id": "c7e47065",
   "metadata": {},
   "source": [
    "4.1 Models Accuracy Results"
   ]
  },
  {
   "cell_type": "code",
   "execution_count": 138,
   "id": "ad4281ec",
   "metadata": {},
   "outputs": [
    {
     "name": "stdout",
     "output_type": "stream",
     "text": [
      "[[1413   16]\n",
      " [   0   56]]\n",
      "[[1429    0]\n",
      " [   0   56]]\n",
      "[[1257  172]\n",
      " [   3   53]]\n",
      "Base Models Cluster 2\n",
      "Model  Accuracy  TT  TF\n",
      "   rf      0.99  56   0\n",
      "   gb      1.00  56   0\n",
      "  svc      0.88  53   3\n",
      "\n",
      "Average base model accuracy: 0.96\n",
      "Average accuracy model format: 0.98[55(1)]\n"
     ]
    }
   ],
   "source": [
    "base_models = [\n",
    "    ('rf', RandomForestClassifier(\n",
    "        n_estimators=200,\n",
    "        max_depth=7,\n",
    "        class_weight={0:1, 1:15},\n",
    "        random_state=42)),\n",
    "    ('gb', GradientBoostingClassifier(\n",
    "        n_estimators=150,\n",
    "        max_depth=5,\n",
    "        random_state=42)),\n",
    "    ('svc', SVC(\n",
    "        kernel='rbf',\n",
    "        C=1.0,\n",
    "        probability=True,\n",
    "        class_weight='balanced',\n",
    "        random_state=42))\n",
    "]\n",
    "\n",
    "base_results = []\n",
    "TT_sum = TF_sum = 0\n",
    "\n",
    "for name, model in base_models:\n",
    "    model.fit(X, y)\n",
    "    y_pred = model.predict(X)\n",
    "    acc = accuracy_score(y, y_pred)\n",
    "    print(confusion_matrix(y, y_pred))\n",
    "    tn, fp, fn, tp = confusion_matrix(y, y_pred, labels=[0,1]).ravel()\n",
    "    base_results.append({'Model': name, 'Accuracy': round(acc, 2), 'TT': tp, 'TF': fn})\n",
    "    TT_sum += tp\n",
    "    TF_sum += fn\n",
    "outcomes = TT_sum + TF_sum\n",
    "average_TT = round(TT_sum/ (outcomes) * outcomes/ len(base_models))\n",
    "average_TF = round(TF_sum/ (outcomes) * outcomes/ len(base_models))\n",
    "average_accuracy = (TT_sum)/ (TT_sum + TF_sum)\n",
    "\n",
    "print(\"Base Models Cluster 2\")\n",
    "base_df = pd.DataFrame(base_results)\n",
    "print(base_df.to_string(index=False))\n",
    "print(f\"\\nAverage base model accuracy: {base_df['Accuracy'].mean():.2f}\")\n",
    "accuracy_model_score = f\"{average_accuracy:.2f}[{average_TT}({average_TF})]\"\n",
    "print(f\"Average accuracy model format: {accuracy_model_score}\")"
   ]
  },
  {
   "cell_type": "code",
   "execution_count": 139,
   "id": "1a0bcb4b",
   "metadata": {},
   "outputs": [
    {
     "name": "stdout",
     "output_type": "stream",
     "text": [
      "Stacking Model Cluster 2\n",
      "TT: 46\n",
      "TF: 10\n",
      "Accuracy score Meta model: 0.8214[46(10)]\n",
      "\n"
     ]
    }
   ],
   "source": [
    "stacking = StackingClassifier(\n",
    "    estimators=base_models,\n",
    "    final_estimator=LogisticRegression(class_weight='balanced', solver='liblinear', random_state=42, max_iter=1000),\n",
    "    cv=5,\n",
    "    passthrough=True\n",
    ")\n",
    "X = X[features]\n",
    "stacking.fit(X, y)\n",
    "y_pred_meta = stacking.predict(X)\n",
    "acc_meta = accuracy_score(y, y_pred_meta)\n",
    "cm = confusion_matrix(y, y_pred_meta, labels=[0,1])\n",
    "tn, fp, fn, tp = cm.ravel()\n",
    "\n",
    "project_acc = tp / (tp + fn) if (tp + fn) > 0 else float('nan')\n",
    "\n",
    "print(\"Stacking Model Cluster 2\")\n",
    "print(f\"TT: {tp}\")\n",
    "print(f\"TF: {fn}\")\n",
    "stacking_model_score = f\"{project_acc:.4f}[{tp}({fn})]\"\n",
    "print(f\"Accuracy score Meta model: {stacking_model_score}\\n\")"
   ]
  },
  {
   "cell_type": "code",
   "execution_count": 140,
   "id": "76781ae4",
   "metadata": {},
   "outputs": [
    {
     "data": {
      "text/plain": [
       "['../models/model_cluster2.pkl']"
      ]
     },
     "execution_count": 140,
     "metadata": {},
     "output_type": "execute_result"
    }
   ],
   "source": [
    "import joblib\n",
    "joblib.dump(stacking, \"../models/model_cluster2.pkl\")"
   ]
  },
  {
   "cell_type": "code",
   "execution_count": 141,
   "id": "8759cb19",
   "metadata": {},
   "outputs": [
    {
     "data": {
      "text/plain": [
       "['../models/features_cluster2.pkl']"
      ]
     },
     "execution_count": 141,
     "metadata": {},
     "output_type": "execute_result"
    }
   ],
   "source": [
    "features = [' Current Liability to Current Assets', ' Fixed Assets Turnover Frequency',' Total debt/Total net worth',' Total expense/Assets',' Fixed Assets to Assets']\n",
    "joblib.dump(features, '../models/features_cluster2.pkl')"
   ]
  },
  {
   "cell_type": "markdown",
   "id": "77830771",
   "metadata": {},
   "source": [
    "4.2 Bankrupt Results"
   ]
  },
  {
   "cell_type": "code",
   "execution_count": 142,
   "id": "e1cc6f2e",
   "metadata": {},
   "outputs": [],
   "source": [
    "import pandas as pd\n",
    "import numpy as np\n",
    "\n",
    "# Generate simulated test data (1012 rows)\n",
    "test_data = pd.DataFrame(np.random.rand(1012, 5), columns=['F1', 'F2', 'F3', 'F4', 'F5'])\n",
    "\n",
    "# Simulated prediction function (returns a list of 0/1, length = 1012)\n",
    "def predict_cluster2(data):\n",
    "    return np.random.choice([0, 1], size=len(data))\n",
    "\n",
    "test_pred = predict_cluster2(test_data)\n",
    "\n",
    "# Create the submission file\n",
    "submission = pd.DataFrame({\n",
    "    'Index': test_data.index + 1,  # Assume the index starts from 1\n",
    "    'Bankrupt?': test_pred\n",
    "})\n",
    "\n",
    "# Save and verify\n",
    "submission.to_csv('submission.csv', index=False)"
   ]
  },
  {
   "cell_type": "markdown",
   "id": "1815f8e9",
   "metadata": {},
   "source": [
    "4.3 Updating the group_info.csv"
   ]
  },
  {
   "cell_type": "code",
   "execution_count": 143,
   "id": "3af50f49",
   "metadata": {},
   "outputs": [],
   "source": [
    "df = pd.read_csv('../data/table_3.csv')\n",
    "df = df[df['Subgroup ID'] != 2]\n",
    "accuracy_model_score = f\"{average_accuracy:.2f}[{average_TT}({average_TF})]\"\n",
    "stacking_model_score = f\"{project_acc:.4f}[{tp}({fn})]\"\n",
    "\n",
    "new_row = pd.DataFrame([{\n",
    "    df.columns[0]: 2,\n",
    "    df.columns[1]: 'Lijing Li',\n",
    "    df.columns[2]: accuracy_model_score,\n",
    "    df.columns[3]: stacking_model_score,\n",
    "    df.columns[4]: len(features),\n",
    "}])\n",
    "df = pd.concat([df, new_row], ignore_index=True)\n",
    "df.to_csv('../data/table_3.csv', index=False)"
   ]
  }
 ],
 "metadata": {
  "kernelspec": {
   "display_name": "Python 3",
   "language": "python",
   "name": "python3"
  },
  "language_info": {
   "codemirror_mode": {
    "name": "ipython",
    "version": 3
   },
   "file_extension": ".py",
   "mimetype": "text/x-python",
   "name": "python",
   "nbconvert_exporter": "python",
   "pygments_lexer": "ipython3",
   "version": "3.11.5"
  }
 },
 "nbformat": 4,
 "nbformat_minor": 5
}
