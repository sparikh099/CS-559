{
 "cells": [
  {
   "cell_type": "markdown",
   "metadata": {},
   "source": [
    "# Shyam Parikh\n",
    "## I will be analyzing Cluster 0 for this project"
   ]
  },
  {
   "cell_type": "code",
   "execution_count": 117,
   "metadata": {},
   "outputs": [],
   "source": [
    "import pandas as pd\n",
    "import numpy as np\n",
    "from matplotlib import pyplot as plt\n",
    "from sklearn.tree import DecisionTreeClassifier\n",
    "from sklearn.ensemble import RandomForestClassifier , ExtraTreesClassifier, StackingClassifier\n",
    "from sklearn.neural_network import MLPClassifier\n",
    "from sklearn.metrics import confusion_matrix\n",
    "import joblib"
   ]
  },
  {
   "cell_type": "code",
   "execution_count": 118,
   "metadata": {},
   "outputs": [
    {
     "data": {
      "text/html": [
       "<div>\n",
       "<style scoped>\n",
       "    .dataframe tbody tr th:only-of-type {\n",
       "        vertical-align: middle;\n",
       "    }\n",
       "\n",
       "    .dataframe tbody tr th {\n",
       "        vertical-align: top;\n",
       "    }\n",
       "\n",
       "    .dataframe thead th {\n",
       "        text-align: right;\n",
       "    }\n",
       "</style>\n",
       "<table border=\"1\" class=\"dataframe\">\n",
       "  <thead>\n",
       "    <tr style=\"text-align: right;\">\n",
       "      <th></th>\n",
       "      <th>Cash Flow to Equity</th>\n",
       "      <th>Retained Earnings to Total Assets</th>\n",
       "      <th>Revenue per person</th>\n",
       "      <th>Current Liability to Current Assets</th>\n",
       "      <th>Equity to Liability</th>\n",
       "      <th>Cash/Total Assets</th>\n",
       "      <th>Total expense/Assets</th>\n",
       "      <th>Liability-Assets Flag</th>\n",
       "      <th>Total debt/Total net worth</th>\n",
       "      <th>Operating profit per person</th>\n",
       "      <th>...</th>\n",
       "      <th>Current Ratio</th>\n",
       "      <th>Tax rate (A)</th>\n",
       "      <th>Fixed Assets to Assets</th>\n",
       "      <th>Fixed Assets Turnover Frequency</th>\n",
       "      <th>Operating Expense Rate</th>\n",
       "      <th>Cash Turnover Rate</th>\n",
       "      <th>Cash/Current Liability</th>\n",
       "      <th>Net Income Flag</th>\n",
       "      <th>Cluster</th>\n",
       "      <th>Bankrupt?</th>\n",
       "    </tr>\n",
       "  </thead>\n",
       "  <tbody>\n",
       "    <tr>\n",
       "      <th>0</th>\n",
       "      <td>0.217546</td>\n",
       "      <td>-0.043381</td>\n",
       "      <td>0.012956</td>\n",
       "      <td>0.021269</td>\n",
       "      <td>0.021996</td>\n",
       "      <td>0.053904</td>\n",
       "      <td>0.013277</td>\n",
       "      <td>0.0</td>\n",
       "      <td>-7.700719</td>\n",
       "      <td>0.219656</td>\n",
       "      <td>...</td>\n",
       "      <td>0.007958</td>\n",
       "      <td>0.000000</td>\n",
       "      <td>0.260497</td>\n",
       "      <td>0.000163</td>\n",
       "      <td>9.293653</td>\n",
       "      <td>48.603120</td>\n",
       "      <td>0.007177</td>\n",
       "      <td>1</td>\n",
       "      <td>2</td>\n",
       "      <td>0</td>\n",
       "    </tr>\n",
       "    <tr>\n",
       "      <th>1</th>\n",
       "      <td>0.216729</td>\n",
       "      <td>-0.034301</td>\n",
       "      <td>0.016897</td>\n",
       "      <td>0.019162</td>\n",
       "      <td>0.021986</td>\n",
       "      <td>0.051009</td>\n",
       "      <td>0.014031</td>\n",
       "      <td>0.0</td>\n",
       "      <td>-7.698724</td>\n",
       "      <td>0.222590</td>\n",
       "      <td>...</td>\n",
       "      <td>0.008968</td>\n",
       "      <td>0.140670</td>\n",
       "      <td>0.185825</td>\n",
       "      <td>0.000286</td>\n",
       "      <td>0.000102</td>\n",
       "      <td>47.794965</td>\n",
       "      <td>0.003365</td>\n",
       "      <td>1</td>\n",
       "      <td>0</td>\n",
       "      <td>0</td>\n",
       "    </tr>\n",
       "    <tr>\n",
       "      <th>2</th>\n",
       "      <td>0.219318</td>\n",
       "      <td>-0.035592</td>\n",
       "      <td>0.014429</td>\n",
       "      <td>0.014912</td>\n",
       "      <td>0.022242</td>\n",
       "      <td>0.087701</td>\n",
       "      <td>0.013941</td>\n",
       "      <td>0.0</td>\n",
       "      <td>-7.756428</td>\n",
       "      <td>0.224013</td>\n",
       "      <td>...</td>\n",
       "      <td>0.011474</td>\n",
       "      <td>0.079348</td>\n",
       "      <td>0.190924</td>\n",
       "      <td>0.000249</td>\n",
       "      <td>0.000106</td>\n",
       "      <td>0.000135</td>\n",
       "      <td>0.011598</td>\n",
       "      <td>1</td>\n",
       "      <td>1</td>\n",
       "      <td>0</td>\n",
       "    </tr>\n",
       "    <tr>\n",
       "      <th>3</th>\n",
       "      <td>0.217730</td>\n",
       "      <td>-0.041187</td>\n",
       "      <td>0.032948</td>\n",
       "      <td>0.023429</td>\n",
       "      <td>0.012704</td>\n",
       "      <td>0.041171</td>\n",
       "      <td>0.008849</td>\n",
       "      <td>0.0</td>\n",
       "      <td>-4.863509</td>\n",
       "      <td>0.225099</td>\n",
       "      <td>...</td>\n",
       "      <td>0.007043</td>\n",
       "      <td>0.000000</td>\n",
       "      <td>0.053158</td>\n",
       "      <td>0.000782</td>\n",
       "      <td>9.286611</td>\n",
       "      <td>49.096282</td>\n",
       "      <td>0.001368</td>\n",
       "      <td>1</td>\n",
       "      <td>2</td>\n",
       "      <td>0</td>\n",
       "    </tr>\n",
       "    <tr>\n",
       "      <th>4</th>\n",
       "      <td>0.213984</td>\n",
       "      <td>-0.041363</td>\n",
       "      <td>0.038464</td>\n",
       "      <td>0.022027</td>\n",
       "      <td>0.020352</td>\n",
       "      <td>0.117889</td>\n",
       "      <td>0.021234</td>\n",
       "      <td>0.0</td>\n",
       "      <td>-7.318907</td>\n",
       "      <td>0.225056</td>\n",
       "      <td>...</td>\n",
       "      <td>0.007624</td>\n",
       "      <td>0.196328</td>\n",
       "      <td>0.059349</td>\n",
       "      <td>0.002155</td>\n",
       "      <td>9.265499</td>\n",
       "      <td>42.076560</td>\n",
       "      <td>0.011420</td>\n",
       "      <td>1</td>\n",
       "      <td>2</td>\n",
       "      <td>0</td>\n",
       "    </tr>\n",
       "  </tbody>\n",
       "</table>\n",
       "<p>5 rows × 21 columns</p>\n",
       "</div>"
      ],
      "text/plain": [
       "    Cash Flow to Equity   Retained Earnings to Total Assets  \\\n",
       "0              0.217546                           -0.043381   \n",
       "1              0.216729                           -0.034301   \n",
       "2              0.219318                           -0.035592   \n",
       "3              0.217730                           -0.041187   \n",
       "4              0.213984                           -0.041363   \n",
       "\n",
       "    Revenue per person   Current Liability to Current Assets  \\\n",
       "0             0.012956                              0.021269   \n",
       "1             0.016897                              0.019162   \n",
       "2             0.014429                              0.014912   \n",
       "3             0.032948                              0.023429   \n",
       "4             0.038464                              0.022027   \n",
       "\n",
       "    Equity to Liability   Cash/Total Assets   Total expense/Assets  \\\n",
       "0              0.021996            0.053904               0.013277   \n",
       "1              0.021986            0.051009               0.014031   \n",
       "2              0.022242            0.087701               0.013941   \n",
       "3              0.012704            0.041171               0.008849   \n",
       "4              0.020352            0.117889               0.021234   \n",
       "\n",
       "    Liability-Assets Flag   Total debt/Total net worth  \\\n",
       "0                     0.0                    -7.700719   \n",
       "1                     0.0                    -7.698724   \n",
       "2                     0.0                    -7.756428   \n",
       "3                     0.0                    -4.863509   \n",
       "4                     0.0                    -7.318907   \n",
       "\n",
       "    Operating profit per person  ...   Current Ratio   Tax rate (A)  \\\n",
       "0                      0.219656  ...        0.007958       0.000000   \n",
       "1                      0.222590  ...        0.008968       0.140670   \n",
       "2                      0.224013  ...        0.011474       0.079348   \n",
       "3                      0.225099  ...        0.007043       0.000000   \n",
       "4                      0.225056  ...        0.007624       0.196328   \n",
       "\n",
       "    Fixed Assets to Assets   Fixed Assets Turnover Frequency  \\\n",
       "0                 0.260497                          0.000163   \n",
       "1                 0.185825                          0.000286   \n",
       "2                 0.190924                          0.000249   \n",
       "3                 0.053158                          0.000782   \n",
       "4                 0.059349                          0.002155   \n",
       "\n",
       "    Operating Expense Rate   Cash Turnover Rate   Cash/Current Liability  \\\n",
       "0                 9.293653            48.603120                 0.007177   \n",
       "1                 0.000102            47.794965                 0.003365   \n",
       "2                 0.000106             0.000135                 0.011598   \n",
       "3                 9.286611            49.096282                 0.001368   \n",
       "4                 9.265499            42.076560                 0.011420   \n",
       "\n",
       "    Net Income Flag  Cluster  Bankrupt?  \n",
       "0                 1        2          0  \n",
       "1                 1        0          0  \n",
       "2                 1        1          0  \n",
       "3                 1        2          0  \n",
       "4                 1        2          0  \n",
       "\n",
       "[5 rows x 21 columns]"
      ]
     },
     "execution_count": 118,
     "metadata": {},
     "output_type": "execute_result"
    }
   ],
   "source": [
    "df = pd.read_csv('../data/train_data_transformed.csv')\n",
    "df.head()"
   ]
  },
  {
   "cell_type": "code",
   "execution_count": 119,
   "metadata": {},
   "outputs": [],
   "source": [
    "target_clusters = df['Cluster']\n",
    "target_bankruptcy = df['Bankrupt?']\n",
    "df.drop(columns=['Cluster'], inplace=True)\n",
    "df_scaled = (df[df.columns[:-2]] - df[df.columns[:-2]] .mean()) / df[df.columns[:-2]] .std()\n",
    "df = df_scaled"
   ]
  },
  {
   "cell_type": "markdown",
   "metadata": {},
   "source": [
    "### 3.1 We have to use a supervised learning technique to predict the indiviudal clusters.\n",
    "For this example I will use Naive Bayes."
   ]
  },
  {
   "cell_type": "code",
   "execution_count": 120,
   "metadata": {},
   "outputs": [
    {
     "name": "stdout",
     "output_type": "stream",
     "text": [
      "Train Accuracy: 0.9995694294940797\n",
      "Test Accuracy: 0.9982788296041308\n"
     ]
    }
   ],
   "source": [
    "np.random.seed(1)\n",
    "from sklearn.model_selection import train_test_split\n",
    "from sklearn.metrics import accuracy_score\n",
    "from sklearn.naive_bayes import GaussianNB\n",
    "X_train, X_test, y_train, y_test = train_test_split(df[df.columns[:-1]], target_clusters, test_size=0.2, random_state=42)\n",
    "nb_model = GaussianNB()\n",
    "nb_model.fit(X_train, y_train)\n",
    "y_train_pred = nb_model.predict(X_train)\n",
    "y_test_pred = nb_model.predict(X_test)\n",
    "train_accuracy = accuracy_score(y_train, y_train_pred)\n",
    "test_accuracy = accuracy_score(y_test, y_test_pred)\n",
    "print(f\"Train Accuracy: {train_accuracy}\")\n",
    "print(f\"Test Accuracy: {test_accuracy}\")\n"
   ]
  },
  {
   "cell_type": "markdown",
   "metadata": {},
   "source": [
    "With Naive Bayes, we get a 99.97% accuracy on the clusters with just training. We also get a 99.91% accuracy when we use a train test split"
   ]
  },
  {
   "cell_type": "code",
   "execution_count": 121,
   "metadata": {},
   "outputs": [
    {
     "name": "stdout",
     "output_type": "stream",
     "text": [
      "Train Accuracy: 0.9997847147470398\n",
      "Test Accuracy: 1.0\n"
     ]
    }
   ],
   "source": [
    "np.random.seed(1)\n",
    "from sklearn.linear_model import LogisticRegression\n",
    "log_model = LogisticRegression()\n",
    "log_model.fit(X_train, y_train)\n",
    "y_train_pred = log_model.predict(X_train)\n",
    "y_test_pred = log_model.predict(X_test)\n",
    "train_accuracy = accuracy_score(y_train, y_train_pred)\n",
    "test_accuracy = accuracy_score(y_test, y_test_pred)\n",
    "print(f\"Train Accuracy: {train_accuracy}\")\n",
    "print(f\"Test Accuracy: {test_accuracy}\")"
   ]
  },
  {
   "cell_type": "code",
   "execution_count": 122,
   "metadata": {},
   "outputs": [
    {
     "name": "stdout",
     "output_type": "stream",
     "text": [
      "Accuracy: 0.9998277940416739\n"
     ]
    }
   ],
   "source": [
    "log_model.fit(df[df.columns[:-1]], target_clusters)\n",
    "y_pred = log_model.predict(df[df.columns[:-1]])\n",
    "accuracy = accuracy_score(target_clusters, y_pred)\n",
    "print(f\"Accuracy: {accuracy}\")"
   ]
  },
  {
   "cell_type": "markdown",
   "metadata": {},
   "source": [
    "We even get a better accuracy when we use Logistic Regression Instead of Naive Bayes on Our Train and Test Set. "
   ]
  },
  {
   "cell_type": "markdown",
   "metadata": {},
   "source": [
    "We are able to get a 100% accuracy with Logistic Regression. To understand what the features look like, we can use the coefficients feature on the logistic regression to see the important features."
   ]
  },
  {
   "cell_type": "code",
   "execution_count": 123,
   "metadata": {},
   "outputs": [
    {
     "data": {
      "image/png": "[encoded data removed]",
      "text/plain": [
       "<Figure size 1000x600 with 1 Axes>"
      ]
     },
     "metadata": {},
     "output_type": "display_data"
    }
   ],
   "source": [
    "coefficients = log_model.coef_[0]  \n",
    "feature_names = X_train.columns\n",
    "importance_df = pd.DataFrame({\n",
    "    'Feature': feature_names,\n",
    "    'Coefficient': coefficients,\n",
    "    'Abs_Coefficient': np.abs(coefficients)\n",
    "})\n",
    "importance_df.sort_values(by='Abs_Coefficient', ascending=False, inplace=True)\n",
    "plt.figure(figsize=(10, 6))\n",
    "plt.barh(importance_df['Feature'][::-1], importance_df['Abs_Coefficient'][::-1])\n",
    "plt.xlabel(\"Absolute Coefficient Value\")\n",
    "plt.title(\"Top 15 Important Features (Logistic Regression)\")\n",
    "plt.tight_layout()\n",
    "plt.show()\n"
   ]
  },
  {
   "cell_type": "markdown",
   "metadata": {},
   "source": [
    "From this we see that 4 features have a meaningful impact on each and every individual subgroup. We will extend that and add the next two features as well as they don't seem to be necessarily equal to 0. For those reasons, we will use the following features when we are developing our stacking model: Revenue per person, Total expense/Assets, Cash/Total Assets, Fixed Assets Turnover Frequency, Cash Turnover Rate, and Operating Expense Rate. These seem have the most impact on predicting subgroups with Operating Expense Rate being the most important."
   ]
  },
  {
   "cell_type": "markdown",
   "metadata": {},
   "source": [
    "### 3.3.2 Building a Stacking model that predicts whether a company in the subgroup will file for bankruptcy."
   ]
  },
  {
   "cell_type": "code",
   "execution_count": 124,
   "metadata": {},
   "outputs": [
    {
     "name": "stdout",
     "output_type": "stream",
     "text": [
      "Total Number of Bankrupt Companies in Cluster 0: 111\n",
      "Total Number of Companies in Cluster 0: 2118\n"
     ]
    }
   ],
   "source": [
    "df['Cluster'] = target_clusters\n",
    "df['Bankrupt?'] = target_bankruptcy\n",
    "shyam_df = df[df['Cluster']==0]\n",
    "print(f\"Total Number of Bankrupt Companies in Cluster 0: {len(shyam_df[shyam_df['Bankrupt?'] == 1])}\")\n",
    "print(f\"Total Number of Companies in Cluster 0: {len(shyam_df)}\")\n",
    "target = shyam_df['Bankrupt?']\n",
    "# we want to take the values that have the most impact on this cluster\n",
    "shyam_df = shyam_df[importance_df['Feature'].values]\n",
    "shyam_df = shyam_df[shyam_df.columns[:6]]"
   ]
  },
  {
   "cell_type": "code",
   "execution_count": 125,
   "metadata": {},
   "outputs": [
    {
     "name": "stdout",
     "output_type": "stream",
     "text": [
      " ========================================================================\n",
      "Train Accuracy for decision_tree: 1.0\n",
      "Confusion Matrix for decision_tree:\n",
      "[[1597    0]\n",
      " [   0   97]]\n",
      "Test Accuracy for decision_tree: 0.9009433962264151\n",
      "Confusion Matrix for decision_tree:\n",
      "[[377  33]\n",
      " [  9   5]]\n",
      "Train Accuracy for et: 1.0\n",
      "Confusion Matrix for et:\n",
      "[[1597    0]\n",
      " [   0   97]]\n",
      "Test Accuracy for et: 0.9599056603773585\n",
      "Confusion Matrix for et:\n",
      "[[406   4]\n",
      " [ 13   1]]\n",
      "Train Accuracy for random_forest: 0.9988193624557261\n",
      "Confusion Matrix for random_forest:\n",
      "[[1597    0]\n",
      " [   2   95]]\n",
      "Test Accuracy for random_forest: 0.9599056603773585\n",
      "Confusion Matrix for random_forest:\n",
      "[[406   4]\n",
      " [ 13   1]]\n",
      " ========================================================================\n",
      "Now, we are just going to use train data and test the accuracy of that model fit\n",
      "Train Accuracy for decision_tree: 1.0\n",
      "True Trues: 111\n",
      "True Falses: 0\n",
      "Confusion Matrix for decision_tree:\n",
      "[[2007    0]\n",
      " [   0  111]]\n",
      "Train Accuracy for et: 1.0\n",
      "True Trues: 111\n",
      "True Falses: 0\n",
      "Confusion Matrix for et:\n",
      "[[2007    0]\n",
      " [   0  111]]\n",
      "Train Accuracy for random_forest: 1.0\n",
      "True Trues: 111\n",
      "True Falses: 0\n",
      "Confusion Matrix for random_forest:\n",
      "[[2007    0]\n",
      " [   0  111]]\n",
      " ========================================================================\n",
      "Average True Trues: 111.0\n",
      "Average True Falses: 0.0\n",
      "Average Accuracy: 1.00[111(0)]\n"
     ]
    }
   ],
   "source": [
    "np.random.seed(1)\n",
    "base_models = [\n",
    "    ('decision_tree', DecisionTreeClassifier(max_depth=20, random_state=1)),\n",
    "    ('et', ExtraTreesClassifier(class_weight='balanced', n_estimators=100, random_state=42)),\n",
    "    ('random_forest', RandomForestClassifier(n_estimators=50, random_state=1))\n",
    "]\n",
    "print(\" ========================================================================\")\n",
    "for x in base_models:\n",
    "    X_train, X_test, y_train, y_test = train_test_split(shyam_df[shyam_df.columns], target, test_size=0.2, random_state=1)\n",
    "    model_name, model = x\n",
    "    model.fit(X_train, y_train)\n",
    "    y_train_pred = model.predict(X_train)\n",
    "    train_accuracy = accuracy_score(y_train, y_train_pred)\n",
    "    confusion_matrix_train = confusion_matrix(y_train, y_train_pred)\n",
    "    print(f\"Train Accuracy for {model_name}: {train_accuracy}\")\n",
    "    print(f\"Confusion Matrix for {model_name}:\\n{confusion_matrix_train}\")\n",
    "    y_test_pred = model.predict(X_test)\n",
    "    test_accuracy = accuracy_score(y_test, y_test_pred)\n",
    "    confusion_matrix_test = confusion_matrix(y_test, y_test_pred)\n",
    "    print(f\"Test Accuracy for {model_name}: {test_accuracy}\")\n",
    "    print(f\"Confusion Matrix for {model_name}:\\n{confusion_matrix_test}\")\n",
    "print(\" ========================================================================\")\n",
    "print(\"Now, we are just going to use train data and test the accuracy of that model fit\")\n",
    "accuracies = []\n",
    "true_trues = []\n",
    "true_falses = []\n",
    "for x in base_models:\n",
    "    model_name,model = x\n",
    "    model.fit(shyam_df, target)\n",
    "    y_train_pred = model.predict(shyam_df)\n",
    "    train_accuracy = accuracy_score(target, y_train_pred)\n",
    "    confusion_matrix_train = confusion_matrix(target, y_train_pred)\n",
    "    true_falses.append(confusion_matrix_train[1][0])\n",
    "    true_trues.append(confusion_matrix_train[1][1])\n",
    "    print(f\"Train Accuracy for {model_name}: {train_accuracy}\")\n",
    "    print(f\"True Trues: {true_trues[-1]}\")\n",
    "    print(f\"True Falses: {true_falses[-1]}\")\n",
    "    print(f\"Confusion Matrix for {model_name}:\\n{confusion_matrix_train}\")\n",
    "    accuracies.append(train_accuracy)\n",
    "print(\" ========================================================================\")  \n",
    "true_trues = int(np.mean(true_trues))\n",
    "true_falses = int(np.mean(true_falses)) \n",
    "average_accuracy = true_trues / (true_trues + true_falses) \n",
    "print(f\"Average True Trues: {np.mean(true_trues)}\")\n",
    "print(f\"Average True Falses: {np.mean(true_falses)}\")\n",
    "new_average_accuracy = f\"{average_accuracy:.2f}[{true_trues}({true_falses})]\"\n",
    "print(f\"Average Accuracy: {new_average_accuracy}\")"
   ]
  },
  {
   "cell_type": "code",
   "execution_count": 126,
   "metadata": {},
   "outputs": [
    {
     "name": "stdout",
     "output_type": "stream",
     "text": [
      "Train Accuracy: 0.8144329896907216\n",
      "Test Accuracy: 0.07142857142857142\n",
      "Train Confusion Matrix:\n",
      "[[1597    0]\n",
      " [  18   79]]\n",
      "Test Confusion Matrix:\n",
      "[[406   4]\n",
      " [ 13   1]]\n"
     ]
    }
   ],
   "source": [
    "np.random.seed(1)\n",
    "X_train, X_test, y_train, y_test = train_test_split(shyam_df, target, test_size=0.2, random_state=1)\n",
    "\n",
    "final_estimator = MLPClassifier(hidden_layer_sizes=(100, 100),activation = 'tanh', max_iter=1000, random_state=1)\n",
    "stacking_model = StackingClassifier(estimators=base_models, final_estimator=final_estimator, cv=5)\n",
    "stacking_model.fit(X_train, y_train)\n",
    "y_train_pred = stacking_model.predict(X_train)\n",
    "y_test_pred = stacking_model.predict(X_test)\n",
    "\n",
    "\n",
    "confusion_matrix_train = confusion_matrix(y_train, y_train_pred)\n",
    "confusion_matrix_test = confusion_matrix(y_test, y_test_pred)\n",
    "train_accuracy = confusion_matrix_train[1][1] / (confusion_matrix_train[1][0] + confusion_matrix_train[1][1])\n",
    "test_accuracy = confusion_matrix_test[1][1] / (confusion_matrix_test[1][0] + confusion_matrix_test[1][1])\n",
    "\n",
    "print(f\"Train Accuracy: {train_accuracy}\")\n",
    "print(f\"Test Accuracy: {test_accuracy}\")\n",
    "print(f\"Train Confusion Matrix:\\n{confusion_matrix_train}\")\n",
    "print(f\"Test Confusion Matrix:\\n{confusion_matrix_test}\")"
   ]
  },
  {
   "cell_type": "code",
   "execution_count": 127,
   "metadata": {},
   "outputs": [
    {
     "name": "stdout",
     "output_type": "stream",
     "text": [
      "Final Model Accuracy: 1.0\n",
      "Final Model Confusion Matrix:\n",
      "[[2007    0]\n",
      " [   0  111]]\n"
     ]
    }
   ],
   "source": [
    "np.random.seed(1)\n",
    "stacking_model.fit(shyam_df[shyam_df.columns], target)\n",
    "y_pred = stacking_model.predict(shyam_df[shyam_df.columns])\n",
    "accuracy_train = accuracy_score(target, y_pred)\n",
    "confusion_matrix = confusion_matrix(target, y_pred)\n",
    "print(f\"Final Model Accuracy: {accuracy_train}\")\n",
    "print(f\"Final Model Confusion Matrix:\\n{confusion_matrix}\")\n",
    "true_trues_meta = confusion_matrix[1][1]\n",
    "true_falses_meta = confusion_matrix[1][0]"
   ]
  },
  {
   "cell_type": "code",
   "execution_count": 128,
   "metadata": {},
   "outputs": [
    {
     "data": {
      "text/plain": [
       "['../models/features_cluster0.pkl']"
      ]
     },
     "execution_count": 128,
     "metadata": {},
     "output_type": "execute_result"
    }
   ],
   "source": [
    "joblib.dump(stacking_model, \"../models/model_cluster0.pkl\")\n",
    "joblib.dump(shyam_df.columns, '../models/features_cluster0.pkl')"
   ]
  },
  {
   "cell_type": "markdown",
   "metadata": {},
   "source": [
    "### Adding everything back into the group_info.csv"
   ]
  },
  {
   "cell_type": "code",
   "execution_count": 129,
   "metadata": {},
   "outputs": [
    {
     "name": "stdout",
     "output_type": "stream",
     "text": [
      "  Subgroup ID  Name of Student  Average accuracy score base models [TT(TF)]  \\\n",
      "1           2        Lijing Li                                  0.98[55(1)]   \n",
      "2        Team              NaN                               0.83 [186(12)]   \n",
      "3           3     Ryan Camburn                                   0.67[3(2)]   \n",
      "4           1     Ayan Mahmood                                  0.67[17(9)]   \n",
      "\n",
      "   accuracy score Meta model [TT(TF)]   N_features  \n",
      "1                      0.8214[46(10)]         5.00  \n",
      "2                      0.96 [188(10)]         5.75  \n",
      "3                          1.00[5(0)]         7.00  \n",
      "4                         1.00[26(0)]         5.00  \n"
     ]
    }
   ],
   "source": [
    "df = pd.read_csv('../data/table_3.csv')\n",
    "df = df[df[df.columns[0]] != '0']\n",
    "print(df)\n",
    "accuracy_traian = true_trues_meta / (true_trues_meta + true_falses_meta)\n",
    "accuracy_train_format = f\"{accuracy_train:.2f}[{true_trues_meta}({true_falses_meta})]\"\n",
    "new_row = pd.DataFrame([{\n",
    "    df.columns[0]: '0',\n",
    "    df.columns[1]: 'Shyam Parikh',\n",
    "    df.columns[2]: new_average_accuracy,\n",
    "    df.columns[3]: accuracy_train_format,\n",
    "    df.columns[4]: len(shyam_df.columns),\n",
    "}])\n",
    "df = pd.concat([df, new_row], ignore_index=True)\n",
    "df.to_csv('../data/table_3.csv', index=False)"
   ]
  },
  {
   "cell_type": "markdown",
   "metadata": {},
   "source": [
    "### Implementing our models on the test set"
   ]
  },
  {
   "cell_type": "code",
   "execution_count": 130,
   "metadata": {},
   "outputs": [],
   "source": [
    "df = pd.read_csv('../data/test_data.csv')"
   ]
  }
 ],
 "metadata": {
  "kernelspec": {
   "display_name": "Python 3",
   "language": "python",
   "name": "python3"
  },
  "language_info": {
   "codemirror_mode": {
    "name": "ipython",
    "version": 3
   },
   "file_extension": ".py",
   "mimetype": "text/x-python",
   "name": "python",
   "nbconvert_exporter": "python",
   "pygments_lexer": "ipython3",
   "version": "3.11.5"
  }
 },
 "nbformat": 4,
 "nbformat_minor": 2
}
