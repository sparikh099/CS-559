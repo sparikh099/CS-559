{
 "cells": [
  {
   "cell_type": "code",
   "execution_count": 20,
   "metadata": {},
   "outputs": [],
   "source": [
    "import pandas as pd\n",
    "import numpy as np\n"
   ]
  },
  {
   "cell_type": "markdown",
   "metadata": {},
   "source": [
    "### Calculating total averages for table_3"
   ]
  },
  {
   "cell_type": "code",
   "execution_count": 21,
   "metadata": {},
   "outputs": [],
   "source": [
    "def calc_accuracy_with_str(df,col_name):\n",
    "    nums = []\n",
    "    for value in df[col_name]:\n",
    "        value = str(value)\n",
    "        first_four = float(value[:4])\n",
    "        nums.append(first_four)\n",
    "    average_accuracy_base = np.mean(nums)\n",
    "    return average_accuracy_base\n"
   ]
  },
  {
   "cell_type": "code",
   "execution_count": 22,
   "metadata": {},
   "outputs": [
    {
     "data": {
      "text/html": [
       "<div>\n",
       "<style scoped>\n",
       "    .dataframe tbody tr th:only-of-type {\n",
       "        vertical-align: middle;\n",
       "    }\n",
       "\n",
       "    .dataframe tbody tr th {\n",
       "        vertical-align: top;\n",
       "    }\n",
       "\n",
       "    .dataframe thead th {\n",
       "        text-align: right;\n",
       "    }\n",
       "</style>\n",
       "<table border=\"1\" class=\"dataframe\">\n",
       "  <thead>\n",
       "    <tr style=\"text-align: right;\">\n",
       "      <th></th>\n",
       "      <th>Subgroup ID</th>\n",
       "      <th>Name of Student</th>\n",
       "      <th>Average accuracy score base models [TT(TF)]</th>\n",
       "      <th>accuracy score Meta model [TT(TF)]</th>\n",
       "      <th>N_features</th>\n",
       "    </tr>\n",
       "  </thead>\n",
       "  <tbody>\n",
       "    <tr>\n",
       "      <th>0</th>\n",
       "      <td>0</td>\n",
       "      <td>Shyam Parikh</td>\n",
       "      <td>0.97[2006(46)]</td>\n",
       "      <td>1.00[2007(109)]</td>\n",
       "      <td>6</td>\n",
       "    </tr>\n",
       "    <tr>\n",
       "      <th>1</th>\n",
       "      <td>team</td>\n",
       "      <td>NaN</td>\n",
       "      <td>0.97</td>\n",
       "      <td>1.0</td>\n",
       "      <td>6</td>\n",
       "    </tr>\n",
       "  </tbody>\n",
       "</table>\n",
       "</div>"
      ],
      "text/plain": [
       "  Subgroup ID  Name of Student  Average accuracy score base models [TT(TF)]  \\\n",
       "0           0     Shyam Parikh                               0.97[2006(46)]   \n",
       "1        team              NaN                                         0.97   \n",
       "\n",
       "   accuracy score Meta model [TT(TF)]   N_features  \n",
       "0                     1.00[2007(109)]            6  \n",
       "1                                 1.0            6  "
      ]
     },
     "execution_count": 22,
     "metadata": {},
     "output_type": "execute_result"
    }
   ],
   "source": [
    "df = pd.read_csv('../data/table_3.csv')\n",
    "df = df[df['Subgroup ID']!= 'Team']\n",
    "average_accuracy_base = calc_accuracy_with_str(df, df.columns[2])\n",
    "average_accuracy_meta = calc_accuracy_with_str(df, df.columns[3])\n",
    "average_number_of_features = int(df[df.columns[4]].mean())\n",
    "new_row = pd.DataFrame({'Subgroup ID': ['team'], df.columns[2]: [average_accuracy_base], df.columns[3]: [average_accuracy_meta], df.columns[4]: [average_number_of_features]})\n",
    "df = pd.concat([df, new_row], ignore_index=True)\n",
    "df"
   ]
  },
  {
   "cell_type": "code",
   "execution_count": null,
   "metadata": {},
   "outputs": [],
   "source": []
  }
 ],
 "metadata": {
  "kernelspec": {
   "display_name": "Python 3",
   "language": "python",
   "name": "python3"
  },
  "language_info": {
   "codemirror_mode": {
    "name": "ipython",
    "version": 3
   },
   "file_extension": ".py",
   "mimetype": "text/x-python",
   "name": "python",
   "nbconvert_exporter": "python",
   "pygments_lexer": "ipython3",
   "version": "3.11.5"
  }
 },
 "nbformat": 4,
 "nbformat_minor": 2
}
