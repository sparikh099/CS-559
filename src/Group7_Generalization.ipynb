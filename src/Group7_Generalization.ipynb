{
 "cells": [
  {
   "cell_type": "markdown",
   "metadata": {},
   "source": [
    "# Group 7 Generalization File, Section 4 of the Project"
   ]
  },
  {
   "cell_type": "code",
   "execution_count": null,
   "metadata": {},
   "outputs": [
    {
     "name": "stdout",
     "output_type": "stream",
     "text": [
      "<class 'pandas.core.frame.DataFrame'>\n",
      "Index: 1012 entries, 0 to 1011\n",
      "Data columns (total 19 columns):\n",
      " #   Column                                Non-Null Count  Dtype  \n",
      "---  ------                                --------------  -----  \n",
      " 0    Cash Flow to Equity                  1012 non-null   float64\n",
      " 1    Retained Earnings to Total Assets    1012 non-null   float64\n",
      " 2    Revenue per person                   1012 non-null   float64\n",
      " 3    Current Liability to Current Assets  1012 non-null   float64\n",
      " 4    Equity to Liability                  1012 non-null   float64\n",
      " 5    Cash/Total Assets                    1012 non-null   float64\n",
      " 6    Total expense/Assets                 1012 non-null   float64\n",
      " 7    Liability-Assets Flag                1012 non-null   int64  \n",
      " 8    Total debt/Total net worth           1012 non-null   float64\n",
      " 9    Operating profit per person          1012 non-null   float64\n",
      " 10   Quick Assets/Current Liability       1012 non-null   float64\n",
      " 11   Current Ratio                        1012 non-null   float64\n",
      " 12   Tax rate (A)                         1012 non-null   float64\n",
      " 13   Fixed Assets to Assets               1012 non-null   float64\n",
      " 14   Fixed Assets Turnover Frequency      1012 non-null   float64\n",
      " 15   Operating Expense Rate               1012 non-null   float64\n",
      " 16   Cash Turnover Rate                   1012 non-null   float64\n",
      " 17   Cash/Current Liability               1012 non-null   float64\n",
      " 18   Net Income Flag                      1012 non-null   int64  \n",
      "dtypes: float64(17), int64(2)\n",
      "memory usage: 158.1 KB\n",
      "None\n"
     ]
    },
    {
     "ename": "NotFittedError",
     "evalue": "This StackingClassifier instance is not fitted yet. Call 'fit' with appropriate arguments before using this estimator.",
     "output_type": "error",
     "traceback": [
      "\u001b[0;31m---------------------------------------------------------------------------\u001b[0m",
      "\u001b[0;31mNotFittedError\u001b[0m                            Traceback (most recent call last)",
      "Cell \u001b[0;32mIn[1], line 40\u001b[0m\n\u001b[1;32m     38\u001b[0m \u001b[38;5;28;01melif\u001b[39;00m cid \u001b[38;5;241m==\u001b[39m \u001b[38;5;241m2\u001b[39m:\n\u001b[1;32m     39\u001b[0m     X_feat \u001b[38;5;241m=\u001b[39m X_test_full\u001b[38;5;241m.\u001b[39mloc[idx, features2]\u001b[38;5;241m.\u001b[39mvalues\u001b[38;5;241m.\u001b[39mreshape(\u001b[38;5;241m1\u001b[39m, \u001b[38;5;241m-\u001b[39m\u001b[38;5;241m1\u001b[39m)\n\u001b[0;32m---> 40\u001b[0m     pred   \u001b[38;5;241m=\u001b[39m \u001b[43mmodel2\u001b[49m\u001b[38;5;241;43m.\u001b[39;49m\u001b[43mpredict\u001b[49m\u001b[43m(\u001b[49m\u001b[43mX_feat\u001b[49m\u001b[43m)\u001b[49m[\u001b[38;5;241m0\u001b[39m]\n\u001b[1;32m     41\u001b[0m \u001b[38;5;28;01melse\u001b[39;00m:  \u001b[38;5;66;03m# cid == 3\u001b[39;00m\n\u001b[1;32m     42\u001b[0m     \u001b[38;5;28mprint\u001b[39m(\u001b[38;5;124m\"\u001b[39m\u001b[38;5;124mMissing Model for Cluster 3\u001b[39m\u001b[38;5;124m\"\u001b[39m)\n",
      "File \u001b[0;32m~/Library/Python/3.9/lib/python/site-packages/sklearn/ensemble/_stacking.py:761\u001b[0m, in \u001b[0;36mStackingClassifier.predict\u001b[0;34m(self, X, **predict_params)\u001b[0m\n\u001b[1;32m    758\u001b[0m     routed_params\u001b[38;5;241m.\u001b[39mfinal_estimator_ \u001b[38;5;241m=\u001b[39m Bunch(predict\u001b[38;5;241m=\u001b[39m{})\n\u001b[1;32m    759\u001b[0m     routed_params\u001b[38;5;241m.\u001b[39mfinal_estimator_\u001b[38;5;241m.\u001b[39mpredict \u001b[38;5;241m=\u001b[39m predict_params\n\u001b[0;32m--> 761\u001b[0m y_pred \u001b[38;5;241m=\u001b[39m \u001b[38;5;28;43msuper\u001b[39;49m\u001b[43m(\u001b[49m\u001b[43m)\u001b[49m\u001b[38;5;241;43m.\u001b[39;49m\u001b[43mpredict\u001b[49m\u001b[43m(\u001b[49m\u001b[43mX\u001b[49m\u001b[43m,\u001b[49m\u001b[43m \u001b[49m\u001b[38;5;241;43m*\u001b[39;49m\u001b[38;5;241;43m*\u001b[39;49m\u001b[43mrouted_params\u001b[49m\u001b[38;5;241;43m.\u001b[39;49m\u001b[43mfinal_estimator_\u001b[49m\u001b[43m[\u001b[49m\u001b[38;5;124;43m\"\u001b[39;49m\u001b[38;5;124;43mpredict\u001b[39;49m\u001b[38;5;124;43m\"\u001b[39;49m\u001b[43m]\u001b[49m\u001b[43m)\u001b[49m\n\u001b[1;32m    762\u001b[0m \u001b[38;5;28;01mif\u001b[39;00m \u001b[38;5;28misinstance\u001b[39m(\u001b[38;5;28mself\u001b[39m\u001b[38;5;241m.\u001b[39m_label_encoder, \u001b[38;5;28mlist\u001b[39m):\n\u001b[1;32m    763\u001b[0m     \u001b[38;5;66;03m# Handle the multilabel-indicator case\u001b[39;00m\n\u001b[1;32m    764\u001b[0m     y_pred \u001b[38;5;241m=\u001b[39m np\u001b[38;5;241m.\u001b[39marray(\n\u001b[1;32m    765\u001b[0m         [\n\u001b[1;32m    766\u001b[0m             \u001b[38;5;28mself\u001b[39m\u001b[38;5;241m.\u001b[39m_label_encoder[target_idx]\u001b[38;5;241m.\u001b[39minverse_transform(target)\n\u001b[1;32m    767\u001b[0m             \u001b[38;5;28;01mfor\u001b[39;00m target_idx, target \u001b[38;5;129;01min\u001b[39;00m \u001b[38;5;28menumerate\u001b[39m(y_pred\u001b[38;5;241m.\u001b[39mT)\n\u001b[1;32m    768\u001b[0m         ]\n\u001b[1;32m    769\u001b[0m     )\u001b[38;5;241m.\u001b[39mT\n",
      "File \u001b[0;32m~/Library/Python/3.9/lib/python/site-packages/sklearn/ensemble/_stacking.py:373\u001b[0m, in \u001b[0;36m_BaseStacking.predict\u001b[0;34m(self, X, **predict_params)\u001b[0m\n\u001b[1;32m    349\u001b[0m \u001b[38;5;129m@available_if\u001b[39m(\n\u001b[1;32m    350\u001b[0m     _estimator_has(\u001b[38;5;124m\"\u001b[39m\u001b[38;5;124mpredict\u001b[39m\u001b[38;5;124m\"\u001b[39m, delegates\u001b[38;5;241m=\u001b[39m(\u001b[38;5;124m\"\u001b[39m\u001b[38;5;124mfinal_estimator_\u001b[39m\u001b[38;5;124m\"\u001b[39m, \u001b[38;5;124m\"\u001b[39m\u001b[38;5;124mfinal_estimator\u001b[39m\u001b[38;5;124m\"\u001b[39m))\n\u001b[1;32m    351\u001b[0m )\n\u001b[1;32m    352\u001b[0m \u001b[38;5;28;01mdef\u001b[39;00m \u001b[38;5;21mpredict\u001b[39m(\u001b[38;5;28mself\u001b[39m, X, \u001b[38;5;241m*\u001b[39m\u001b[38;5;241m*\u001b[39mpredict_params):\n\u001b[1;32m    353\u001b[0m \u001b[38;5;250m    \u001b[39m\u001b[38;5;124;03m\"\"\"Predict target for X.\u001b[39;00m\n\u001b[1;32m    354\u001b[0m \n\u001b[1;32m    355\u001b[0m \u001b[38;5;124;03m    Parameters\u001b[39;00m\n\u001b[0;32m   (...)\u001b[0m\n\u001b[1;32m    370\u001b[0m \u001b[38;5;124;03m        Predicted targets.\u001b[39;00m\n\u001b[1;32m    371\u001b[0m \u001b[38;5;124;03m    \"\"\"\u001b[39;00m\n\u001b[0;32m--> 373\u001b[0m     \u001b[43mcheck_is_fitted\u001b[49m\u001b[43m(\u001b[49m\u001b[38;5;28;43mself\u001b[39;49m\u001b[43m)\u001b[49m\n\u001b[1;32m    374\u001b[0m     \u001b[38;5;28;01mreturn\u001b[39;00m \u001b[38;5;28mself\u001b[39m\u001b[38;5;241m.\u001b[39mfinal_estimator_\u001b[38;5;241m.\u001b[39mpredict(\u001b[38;5;28mself\u001b[39m\u001b[38;5;241m.\u001b[39mtransform(X), \u001b[38;5;241m*\u001b[39m\u001b[38;5;241m*\u001b[39mpredict_params)\n",
      "File \u001b[0;32m~/Library/Python/3.9/lib/python/site-packages/sklearn/utils/validation.py:1757\u001b[0m, in \u001b[0;36mcheck_is_fitted\u001b[0;34m(estimator, attributes, msg, all_or_any)\u001b[0m\n\u001b[1;32m   1754\u001b[0m     \u001b[38;5;28;01mreturn\u001b[39;00m\n\u001b[1;32m   1756\u001b[0m \u001b[38;5;28;01mif\u001b[39;00m \u001b[38;5;129;01mnot\u001b[39;00m _is_fitted(estimator, attributes, all_or_any):\n\u001b[0;32m-> 1757\u001b[0m     \u001b[38;5;28;01mraise\u001b[39;00m NotFittedError(msg \u001b[38;5;241m%\u001b[39m {\u001b[38;5;124m\"\u001b[39m\u001b[38;5;124mname\u001b[39m\u001b[38;5;124m\"\u001b[39m: \u001b[38;5;28mtype\u001b[39m(estimator)\u001b[38;5;241m.\u001b[39m\u001b[38;5;18m__name__\u001b[39m})\n",
      "\u001b[0;31mNotFittedError\u001b[0m: This StackingClassifier instance is not fitted yet. Call 'fit' with appropriate arguments before using this estimator."
     ]
    }
   ],
   "source": [
    "import pandas as pd\n",
    "import joblib\n",
    "\n",
    "# 1) Load serialized preprocessing & models\n",
    "scaler = joblib.load('../models/scaler.pkl')\n",
    "cluster_classifier = joblib.load('../models/cluster_clf.pkl')\n",
    "#model0 = joblib.load('model_cluster0.pkl')\n",
    "model1 = joblib.load('../models/model_cluster1.pkl')\n",
    "model2 = joblib.load('../models/model_cluster2.pkl')\n",
    "#model3 = joblib.load('../models/model_cluster3.pkl')\n",
    "#features0 = joblib.load('../models/features_cluster0.pkl')\n",
    "features1 = joblib.load('../models/features_cluster1.pkl')\n",
    "features2 = joblib.load('../models/features_cluster2.pkl')\n",
    "#features3 = joblib.load('../models/features_cluster3.pkl')\n",
    "\n",
    "# 2) Read test set\n",
    "test_df = pd.read_csv('../data/test_data.csv', index_col=0)\n",
    "\n",
    "train_transformed = pd.read_csv('../data/train_data_transformed.csv')\n",
    "cluster_feature_cols = train_transformed.drop(columns=['Cluster','Bankrupt?']).columns.tolist()\n",
    "\n",
    "# 3) Preprocess & predict cluster-ID\n",
    "X_test_full = test_df[cluster_feature_cols]\n",
    "print(X_test_full.info())\n",
    "X_scaled    = scaler.transform(X_test_full)\n",
    "cluster_ids = cluster_classifier.predict(X_scaled)\n",
    "\n",
    "# 4) For each test row, select the right features & model, predict Bankruptcy?\n",
    "preds = []\n",
    "for idx, cid in zip(X_test_full.index, cluster_ids):\n",
    "    if cid == 0:\n",
    "        print(\"Missing Model for Cluster 0\")\n",
    "        # X_feat = X_test_full.loc[idx, features0].values.reshape(1, -1)\n",
    "        # pred   = model0.predict(X_feat)[0]\n",
    "    elif cid == 1:\n",
    "        X_feat = X_test_full.loc[idx, features1].values.reshape(1, -1)\n",
    "        pred = model1.predict(X_feat)[0]\n",
    "    elif cid == 2:\n",
    "        X_feat = X_test_full.loc[idx, features2].values.reshape(1, -1)\n",
    "        pred = model2.predict(X_feat)[0]\n",
    "    else:  # cid == 3\n",
    "        print(\"Missing Model for Cluster 3\")\n",
    "        # X_feat = X_test_full.loc[idx, features3].values.reshape(1, -1)\n",
    "        # pred   = model3.predict(X_feat)[0]\n",
    "    preds.append((idx, int(pred)))\n",
    "\n",
    "# 5) Write submission file\n",
    "submission = pd.DataFrame(preds, columns=['Index', 'Bankrupt?'])\n",
    "submission.to_csv('Group7_Generalization.csv', index=False)\n",
    "\n",
    "print(submission.head())\n"
   ]
  }
 ],
 "metadata": {
  "kernelspec": {
   "display_name": "Python 3",
   "language": "python",
   "name": "python3"
  },
  "language_info": {
   "codemirror_mode": {
    "name": "ipython",
    "version": 3
   },
   "file_extension": ".py",
   "mimetype": "text/x-python",
   "name": "python",
   "nbconvert_exporter": "python",
   "pygments_lexer": "ipython3",
   "version": "3.9.1"
  }
 },
 "nbformat": 4,
 "nbformat_minor": 2
}
